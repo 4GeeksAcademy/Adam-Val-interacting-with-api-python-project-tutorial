{
    "cells": [
        {
            "cell_type": "markdown",
            "metadata": {},
            "source": [
                "# Explore here"
            ]
        },
        {
            "cell_type": "code",
            "execution_count": 18,
            "metadata": {},
            "outputs": [],
            "source": [
                "import os\n",
                "from dotenv import load_dotenv\n",
                "load_dotenv()\n",
                "\n",
                "client_id = os.environ.get('client_id')\n",
                "client_secret = os.environ.get('client_secret')\n"
            ]
        },
        {
            "cell_type": "code",
            "execution_count": 19,
            "metadata": {},
            "outputs": [
                {
                    "name": "stdout",
                    "output_type": "stream",
                    "text": [
                        "f65e4b63a05d4357a3bb9cacb1cf474d\n"
                    ]
                }
            ],
            "source": [
                "print(client_id)"
            ]
        },
        {
            "cell_type": "code",
            "execution_count": 20,
            "metadata": {},
            "outputs": [],
            "source": [
                "import spotipy as sp\n",
                "from spotipy.oauth2 import SpotifyClientCredentials\n",
                "\n",
                "con = sp.Spotify(auth_manager = SpotifyClientCredentials(client_id = client_id,\n",
                "                                                              client_secret = client_secret))"
            ]
        },
        {
            "cell_type": "code",
            "execution_count": 21,
            "metadata": {},
            "outputs": [],
            "source": [
                "import spotipy as sp\n",
                "artist_id = \"3TVXtAsR1Inumwj472S9r4\"\n",
                "\n",
                "response = con.artist_top_tracks(\"3TVXtAsR1Inumwj472S9r4\")\n",
                "if response:\n",
                "  # We keep the \"tracks\" object of the answer\n",
                "  tracks = response[\"tracks\"]\n",
                "  # We select, for each song, the data we are interested in and discard the rest\n",
                "  tracks = [{k: (v/(1000*60))%60 if k == \"duration_ms\" else v for k, v in track.items() if k in [\"name\", \"popularity\", \"duration_ms\"]} for track in tracks]"
            ]
        },
        {
            "cell_type": "code",
            "execution_count": 22,
            "metadata": {},
            "outputs": [
                {
                    "name": "stdout",
                    "output_type": "stream",
                    "text": [
                        "   duration_ms        name  popularity\n",
                        "3     5.097333    She Will          75\n",
                        "9     3.933100   Headlines          77\n",
                        "8     3.316217  God's Plan          78\n"
                    ]
                }
            ],
            "source": [
                "import pandas as pd\n",
                "\n",
                "tracks_df = pd.DataFrame.from_records(tracks)\n",
                "tracks_df.sort_values([\"popularity\"], inplace = True)\n",
                "\n",
                "print(tracks_df.head(3))"
            ]
        },
        {
            "cell_type": "code",
            "execution_count": 23,
            "metadata": {},
            "outputs": [
                {
                    "name": "stdout",
                    "output_type": "stream",
                    "text": [
                        "no relationship between length of song and popularity\n"
                    ]
                },
                {
                    "data": {
                        "image/png": "[encoded data removed]",
                        "text/plain": [
                            "<Figure size 640x480 with 1 Axes>"
                        ]
                    },
                    "metadata": {},
                    "output_type": "display_data"
                }
            ],
            "source": [
                "import seaborn as sns\n",
                "\n",
                "scatter_plot = sns.scatterplot(data = tracks_df, x = \"popularity\", y = \"duration_ms\")\n",
                "fig = scatter_plot.get_figure()\n",
                "fig.savefig(\"scatter_plot.png\")\n",
                "\n",
                "print(f'no relationship between length of song and popularity')"
            ]
        }
    ],
    "metadata": {
        "kernelspec": {
            "display_name": "Python 3",
            "language": "python",
            "name": "python3"
        },
        "language_info": {
            "codemirror_mode": {
                "name": "ipython",
                "version": 3
            },
            "file_extension": ".py",
            "mimetype": "text/x-python",
            "name": "python",
            "nbconvert_exporter": "python",
            "pygments_lexer": "ipython3",
            "version": "3.11.4"
        },
        "orig_nbformat": 4
    },
    "nbformat": 4,
    "nbformat_minor": 2
}
