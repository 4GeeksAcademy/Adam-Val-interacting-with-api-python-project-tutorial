{
    "cells": [
        {
            "cell_type": "markdown",
            "metadata": {},
            "source": [
                "# Explore here"
            ]
        },
        {
            "cell_type": "code",
            "execution_count": 11,
            "metadata": {},
            "outputs": [
                {
                    "name": "stderr",
                    "output_type": "stream",
                    "text": [
                        "Python-dotenv could not parse statement starting at line 1\n",
                        "Python-dotenv could not parse statement starting at line 2\n"
                    ]
                }
            ],
            "source": [
                "import os\n",
                "from dotenv import load_dotenv\n",
                "load_dotenv()\n",
                "\n",
                "client_id = os.environ.get('f65e4b63a05d4357a3bb9cacb1cf474d')\n",
                "client_secret = os.environ.get('487f2e4198584a7297dd9f8e1dfed2fb')\n"
            ]
        },
        {
            "cell_type": "code",
            "execution_count": 12,
            "metadata": {},
            "outputs": [
                {
                    "ename": "SpotifyOauthError",
                    "evalue": "No client_id. Pass it or set a SPOTIPY_CLIENT_ID environment variable.",
                    "output_type": "error",
                    "traceback": [
                        "\u001b[31m---------------------------------------------------------------------------\u001b[39m",
                        "\u001b[31mSpotifyOauthError\u001b[39m                         Traceback (most recent call last)",
                        "\u001b[36mCell\u001b[39m\u001b[36m \u001b[39m\u001b[32mIn[12]\u001b[39m\u001b[32m, line 4\u001b[39m\n\u001b[32m      1\u001b[39m \u001b[38;5;28;01mimport\u001b[39;00m\u001b[38;5;250m \u001b[39m\u001b[34;01mspotipy\u001b[39;00m\u001b[38;5;250m \u001b[39m\u001b[38;5;28;01mas\u001b[39;00m\u001b[38;5;250m \u001b[39m\u001b[34;01msp\u001b[39;00m\n\u001b[32m      2\u001b[39m \u001b[38;5;28;01mfrom\u001b[39;00m\u001b[38;5;250m \u001b[39m\u001b[34;01mspotipy\u001b[39;00m\u001b[34;01m.\u001b[39;00m\u001b[34;01moauth2\u001b[39;00m\u001b[38;5;250m \u001b[39m\u001b[38;5;28;01mimport\u001b[39;00m SpotifyClientCredentials\n\u001b[32m----> \u001b[39m\u001b[32m4\u001b[39m con = spotipy.Spotify(auth_manager = \u001b[43mSpotifyClientCredentials\u001b[49m\u001b[43m(\u001b[49m\u001b[43mclient_id\u001b[49m\u001b[43m \u001b[49m\u001b[43m=\u001b[49m\u001b[43m \u001b[49m\u001b[43mclient_id\u001b[49m\u001b[43m,\u001b[49m\n\u001b[32m      5\u001b[39m \u001b[43m                                                              \u001b[49m\u001b[43mclient_secret\u001b[49m\u001b[43m \u001b[49m\u001b[43m=\u001b[49m\u001b[43m \u001b[49m\u001b[43mclient_secret\u001b[49m\u001b[43m)\u001b[49m)\n",
                        "\u001b[36mFile \u001b[39m\u001b[32m~/.local/lib/python3.11/site-packages/spotipy/oauth2.py:201\u001b[39m, in \u001b[36mSpotifyClientCredentials.__init__\u001b[39m\u001b[34m(self, client_id, client_secret, proxies, requests_session, requests_timeout, cache_handler)\u001b[39m\n\u001b[32m    172\u001b[39m \u001b[38;5;250m\u001b[39m\u001b[33;03m\"\"\"\u001b[39;00m\n\u001b[32m    173\u001b[39m \u001b[33;03mCreates a Client Credentials Flow Manager.\u001b[39;00m\n\u001b[32m    174\u001b[39m \n\u001b[32m   (...)\u001b[39m\u001b[32m    196\u001b[39m \n\u001b[32m    197\u001b[39m \u001b[33;03m\"\"\"\u001b[39;00m\n\u001b[32m    199\u001b[39m \u001b[38;5;28msuper\u001b[39m(SpotifyClientCredentials, \u001b[38;5;28mself\u001b[39m).\u001b[34m__init__\u001b[39m(requests_session)\n\u001b[32m--> \u001b[39m\u001b[32m201\u001b[39m \u001b[38;5;28;43mself\u001b[39;49m\u001b[43m.\u001b[49m\u001b[43mclient_id\u001b[49m = client_id\n\u001b[32m    202\u001b[39m \u001b[38;5;28mself\u001b[39m.client_secret = client_secret\n\u001b[32m    203\u001b[39m \u001b[38;5;28mself\u001b[39m.proxies = proxies\n",
                        "\u001b[36mFile \u001b[39m\u001b[32m~/.local/lib/python3.11/site-packages/spotipy/oauth2.py:94\u001b[39m, in \u001b[36mSpotifyAuthBase.client_id\u001b[39m\u001b[34m(self, val)\u001b[39m\n\u001b[32m     92\u001b[39m \u001b[38;5;129m@client_id\u001b[39m.setter\n\u001b[32m     93\u001b[39m \u001b[38;5;28;01mdef\u001b[39;00m\u001b[38;5;250m \u001b[39m\u001b[34mclient_id\u001b[39m(\u001b[38;5;28mself\u001b[39m, val):\n\u001b[32m---> \u001b[39m\u001b[32m94\u001b[39m     \u001b[38;5;28mself\u001b[39m._client_id = \u001b[43m_ensure_value\u001b[49m\u001b[43m(\u001b[49m\u001b[43mval\u001b[49m\u001b[43m,\u001b[49m\u001b[43m \u001b[49m\u001b[33;43m\"\u001b[39;49m\u001b[33;43mclient_id\u001b[39;49m\u001b[33;43m\"\u001b[39;49m\u001b[43m)\u001b[49m\n",
                        "\u001b[36mFile \u001b[39m\u001b[32m~/.local/lib/python3.11/site-packages/spotipy/oauth2.py:70\u001b[39m, in \u001b[36m_ensure_value\u001b[39m\u001b[34m(value, env_key)\u001b[39m\n\u001b[32m     65\u001b[39m \u001b[38;5;28;01mif\u001b[39;00m _val \u001b[38;5;129;01mis\u001b[39;00m \u001b[38;5;28;01mNone\u001b[39;00m:\n\u001b[32m     66\u001b[39m     msg = \u001b[33m\"\u001b[39m\u001b[33mNo \u001b[39m\u001b[38;5;132;01m%s\u001b[39;00m\u001b[33m. Pass it or set a \u001b[39m\u001b[38;5;132;01m%s\u001b[39;00m\u001b[33m environment variable.\u001b[39m\u001b[33m\"\u001b[39m % (\n\u001b[32m     67\u001b[39m         env_key,\n\u001b[32m     68\u001b[39m         env_val,\n\u001b[32m     69\u001b[39m     )\n\u001b[32m---> \u001b[39m\u001b[32m70\u001b[39m     \u001b[38;5;28;01mraise\u001b[39;00m SpotifyOauthError(msg)\n\u001b[32m     71\u001b[39m \u001b[38;5;28;01mreturn\u001b[39;00m _val\n",
                        "\u001b[31mSpotifyOauthError\u001b[39m: No client_id. Pass it or set a SPOTIPY_CLIENT_ID environment variable."
                    ]
                }
            ],
            "source": [
                "import spotipy as sp\n",
                "from spotipy.oauth2 import SpotifyClientCredentials\n",
                "\n",
                "con = spotipy.Spotify(auth_manager = SpotifyClientCredentials(client_id = client_id,\n",
                "                                                              client_secret = client_secret))"
            ]
        },
        {
            "cell_type": "code",
            "execution_count": 15,
            "metadata": {},
            "outputs": [
                {
                    "ename": "AttributeError",
                    "evalue": "module 'spotipy' has no attribute 'artist_top_tracks'",
                    "output_type": "error",
                    "traceback": [
                        "\u001b[31m---------------------------------------------------------------------------\u001b[39m",
                        "\u001b[31mAttributeError\u001b[39m                            Traceback (most recent call last)",
                        "\u001b[36mCell\u001b[39m\u001b[36m \u001b[39m\u001b[32mIn[15]\u001b[39m\u001b[32m, line 4\u001b[39m\n\u001b[32m      1\u001b[39m \u001b[38;5;28;01mimport\u001b[39;00m\u001b[38;5;250m \u001b[39m\u001b[34;01mspotipy\u001b[39;00m\u001b[38;5;250m \u001b[39m\u001b[38;5;28;01mas\u001b[39;00m\u001b[38;5;250m \u001b[39m\u001b[34;01msp\u001b[39;00m\n\u001b[32m      2\u001b[39m artist_id = \u001b[33m\"\u001b[39m\u001b[33m3TVXtAsR1Inumwj472S9r4\u001b[39m\u001b[33m\"\u001b[39m\n\u001b[32m----> \u001b[39m\u001b[32m4\u001b[39m response = \u001b[43msp\u001b[49m\u001b[43m.\u001b[49m\u001b[43martist_top_tracks\u001b[49m(\u001b[33m\"\u001b[39m\u001b[33m3TVXtAsR1Inumwj472S9r4\u001b[39m\u001b[33m\"\u001b[39m)\n\u001b[32m      5\u001b[39m \u001b[38;5;28;01mif\u001b[39;00m response:\n\u001b[32m      6\u001b[39m   \u001b[38;5;66;03m# We keep the \"tracks\" object of the answer\u001b[39;00m\n\u001b[32m      7\u001b[39m   tracks = response[\u001b[33m\"\u001b[39m\u001b[33mtracks\u001b[39m\u001b[33m\"\u001b[39m]\n",
                        "\u001b[31mAttributeError\u001b[39m: module 'spotipy' has no attribute 'artist_top_tracks'"
                    ]
                }
            ],
            "source": [
                "import spotipy as sp\n",
                "artist_id = \"3TVXtAsR1Inumwj472S9r4\"\n",
                "\n",
                "response = sp.artist_top_tracks(\"3TVXtAsR1Inumwj472S9r4\")\n",
                "if response:\n",
                "  # We keep the \"tracks\" object of the answer\n",
                "  tracks = response[\"tracks\"]\n",
                "  # We select, for each song, the data we are interested in and discard the rest\n",
                "  tracks = [{k: (v/(1000*60))%60 if k == \"duration_ms\" else v for k, v in track.items() if k in [\"name\", \"popularity\", \"duration_ms\"]} for track in tracks]"
            ]
        },
        {
            "cell_type": "code",
            "execution_count": 14,
            "metadata": {},
            "outputs": [
                {
                    "ename": "NameError",
                    "evalue": "name 'tracks' is not defined",
                    "output_type": "error",
                    "traceback": [
                        "\u001b[31m---------------------------------------------------------------------------\u001b[39m",
                        "\u001b[31mNameError\u001b[39m                                 Traceback (most recent call last)",
                        "\u001b[36mCell\u001b[39m\u001b[36m \u001b[39m\u001b[32mIn[14]\u001b[39m\u001b[32m, line 3\u001b[39m\n\u001b[32m      1\u001b[39m \u001b[38;5;28;01mimport\u001b[39;00m\u001b[38;5;250m \u001b[39m\u001b[34;01mpandas\u001b[39;00m\u001b[38;5;250m \u001b[39m\u001b[38;5;28;01mas\u001b[39;00m\u001b[38;5;250m \u001b[39m\u001b[34;01mpd\u001b[39;00m\n\u001b[32m----> \u001b[39m\u001b[32m3\u001b[39m tracks_df = pd.DataFrame.from_records(\u001b[43mtracks\u001b[49m)\n\u001b[32m      4\u001b[39m tracks_df.sort_values([\u001b[33m\"\u001b[39m\u001b[33mpopularity\u001b[39m\u001b[33m\"\u001b[39m], inplace = \u001b[38;5;28;01mTrue\u001b[39;00m)\n\u001b[32m      6\u001b[39m \u001b[38;5;28mprint\u001b[39m(tracks_df.head(\u001b[32m3\u001b[39m))\n",
                        "\u001b[31mNameError\u001b[39m: name 'tracks' is not defined"
                    ]
                }
            ],
            "source": [
                "import pandas as pd\n",
                "\n",
                "tracks_df = pd.DataFrame.from_records(tracks)\n",
                "tracks_df.sort_values([\"popularity\"], inplace = True)\n",
                "\n",
                "print(tracks_df.head(3))"
            ]
        }
    ],
    "metadata": {
        "kernelspec": {
            "display_name": "Python 3",
            "language": "python",
            "name": "python3"
        },
        "language_info": {
            "codemirror_mode": {
                "name": "ipython",
                "version": 3
            },
            "file_extension": ".py",
            "mimetype": "text/x-python",
            "name": "python",
            "nbconvert_exporter": "python",
            "pygments_lexer": "ipython3",
            "version": "3.11.4"
        },
        "orig_nbformat": 4
    },
    "nbformat": 4,
    "nbformat_minor": 2
}
